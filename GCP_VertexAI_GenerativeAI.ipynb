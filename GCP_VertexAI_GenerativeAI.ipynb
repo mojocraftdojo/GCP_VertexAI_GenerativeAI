{
 "cells": [
  {
   "cell_type": "markdown",
   "id": "2bd22b51-848b-478d-bfd4-5376c9ecb346",
   "metadata": {},
   "source": [
    "# Creating and training LLMs-powered Generative AI models via Google Vertex AI SDK\n",
    "\n",
    "This Jupyter notebook shows several working examples just to demonstrate how to use vertex API to interact with google cloud and run generative AI apps powered by pre-trained large language models (LLMs). The list goes on and not just limited to the examples here. On top of language models, you can also run image models, video models and Speech models via corresponding APIs. \n",
    "\n",
    "You will need to have a google cloud GCP account, has at least vertex AI API enabled,  create a project, write down project_id and link it to the billing.\n",
    "\n",
    "For programmable way to connect and run ML models on GCP, you need to install Google Cloud SDK first, complete the authenticate and some initial setup. You will also need to install vertex AI SDK and several other python libraries.\n",
    "\n",
    "**Google Cloud SDK Authentication**\n",
    "\n",
    "--   gcloud auth application-default login\n",
    "\n",
    "\n",
    "**Set Proper Compute Region/Zones**\n",
    "\n",
    " --- gcloud config set compute/region us-central1 \n",
    " \n",
    " --- gcloud config set compute/zone us-central1-a"
   ]
  },
  {
   "cell_type": "markdown",
   "id": "9375ab38-664e-4162-8634-ad8463c16025",
   "metadata": {},
   "source": [
    "# Install python libraries"
   ]
  },
  {
   "cell_type": "code",
   "execution_count": null,
   "id": "f49d106b-dd9e-46fd-9e5d-8ef6ed227087",
   "metadata": {},
   "outputs": [],
   "source": [
    "#!pip install \"shapely<2.0.0\" \n",
    "#!pip install google-cloud-aiplatform --upgrade"
   ]
  },
  {
   "cell_type": "markdown",
   "id": "441b6096-7d81-42b4-8e25-10ff698a0c96",
   "metadata": {},
   "source": [
    "# Import Vertex AI SDK"
   ]
  },
  {
   "cell_type": "code",
   "execution_count": 10,
   "id": "2e3b039e-7a14-4db3-a90f-1cf4f8df2103",
   "metadata": {
    "tags": []
   },
   "outputs": [],
   "source": [
    "from google.cloud import aiplatform"
   ]
  },
  {
   "cell_type": "markdown",
   "id": "f02c3754-7800-422e-824f-43db71e0b1ca",
   "metadata": {},
   "source": [
    "# Example 1: Summarize Long Articles"
   ]
  },
  {
   "cell_type": "code",
   "execution_count": 20,
   "id": "7b79154e-d5a0-4369-9029-382938bc1c7d",
   "metadata": {
    "tags": []
   },
   "outputs": [
    {
     "name": "stdout",
     "output_type": "stream",
     "text": [
      "Response from Model: Daniel Radcliffe, who plays Harry Potter, is turning 18 on Monday and will gain access to a reported £20 million ($41.1 million) fortune. He says he has no plans to fritter his cash away on fast cars, drink and celebrity parties.\n"
     ]
    }
   ],
   "source": [
    "import vertexai\n",
    "from vertexai.language_models import TextGenerationModel\n",
    "\n",
    "vertexai.init(project=\"[project-ID]\", location=\"us-central1\")\n",
    "parameters = {\n",
    "    \"max_output_tokens\": 768,\n",
    "    \"temperature\": 0.2,\n",
    "    \"top_p\": 0.8,\n",
    "    \"top_k\": 40\n",
    "}\n",
    "model = TextGenerationModel.from_pretrained(\"text-bison@001\")\n",
    "response = model.predict(\n",
    "    \"\"\"Provide a brief summary for the following article:\n",
    "LONDON, England (Reuters) -- Harry Potter star Daniel Radcliffe gains access to a reported £20 million ($41.1 million) fortune as he turns 18 on Monday, but he insists the money won\\'t cast a spell on him. Daniel Radcliffe as Harry Potter in \\\"Harry Potter and the Order of the Phoenix\\\" To the disappointment of gossip columnists around the world, the young actor says he has no plans to fritter his cash away on fast cars, drink and celebrity parties. \\\"I don\\'t plan to be one of those people who, as soon as they turn 18, suddenly buy themselves a massive sports car collection or something similar,\\\" he told an Australian interviewer earlier this month. \\\"I don\\'t think I\\'ll be particularly extravagant. \\\"The things I like buying are things that cost about 10 pounds -- books and CDs and DVDs.\\\" At 18, Radcliffe will be able to gamble in a casino, buy a drink in a pub or see the horror film \\\"Hostel: Part II,\\\" currently six places below his number one movie on the UK box office chart. Details of how he\\'ll mark his landmark birthday are under wraps. His agent and publicist had no comment on his plans. \\\"I\\'ll definitely have some sort of party,\\\" he said in an interview. \\\"Hopefully none of you will be reading about it.\\\" Radcliffe\\'s earnings from the first five Potter films have been held in a trust fund which he has not been able to touch. Despite his growing fame and riches, the actor says he is keeping his feet firmly on the ground. \\\"People are always looking to say \\'kid star goes off the rails,\\'\\\" he told reporters last month. \\\"But I try very hard not to go that way because it would be too easy for them.\\\" His latest outing as the boy wizard in \\\"Harry Potter and the Order of the Phoenix\\\" is breaking records on both sides of the Atlantic and he will reprise the role in the last two films. Watch I-Reporter give her review of Potter\\'s latest » . There is life beyond Potter, however. The Londoner has filmed a TV movie called \\\"My Boy Jack,\\\" about author Rudyard Kipling and his son, due for release later this year. He will also appear in \\\"December Boys,\\\" an Australian film about four boys who escape an orphanage. Earlier this year, he made his stage debut playing a tortured teenager in Peter Shaffer\\'s \\\"Equus.\\\" Meanwhile, he is braced for even closer media scrutiny now that he\\'s legally an adult: \\\"I just think I\\'m going to be more sort of fair game,\\\" he told Reuters. E-mail to a friend . Copyright 2007 Reuters. All rights reserved.This material may not be published, broadcast, rewritten, or redistributed.\"\"\",\n",
    "    **parameters\n",
    ")\n",
    "print(f\"Response from Model: {response.text}\")"
   ]
  },
  {
   "cell_type": "markdown",
   "id": "6b0c19ea-1eb4-4d9f-9ab7-aea7a905213e",
   "metadata": {},
   "source": [
    "# Example 2 : Classify Articles"
   ]
  },
  {
   "cell_type": "code",
   "execution_count": 25,
   "id": "a94df100-82e4-44a0-b0c0-0687e4086550",
   "metadata": {
    "tags": []
   },
   "outputs": [
    {
     "name": "stdout",
     "output_type": "stream",
     "text": [
      "Response from Model: The topic of this text is culture. The text talks about the history of samba, which is a Brazilian music genre. The text also talks about the importance of samba in Brazilian culture.\n"
     ]
    }
   ],
   "source": [
    "import vertexai\n",
    "from vertexai.language_models import TextGenerationModel\n",
    "\n",
    "vertexai.init(project=\"[project-ID]\", location=\"us-central1\")\n",
    "parameters = {\n",
    "    #\"candidate_count\": 1,\n",
    "    \"max_output_tokens\": 256,\n",
    "    \"temperature\": 0.2,\n",
    "    \"top_p\": 0.8,\n",
    "    \"top_k\": 40\n",
    "}\n",
    "model = TextGenerationModel.from_pretrained(\"text-bison@001\")\n",
    "response = model.predict(\n",
    "    \"\"\"Multi-choice problem: What is the topic of this text?\n",
    "- entertainment\n",
    "- technology\n",
    "- politics\n",
    "- sports\n",
    "- business\n",
    "- health\n",
    "- fun\n",
    "- culture\n",
    "- science\n",
    "\n",
    "Text: Samba, is a name or prefix used for several rhythmic variants, such as samba urbano carioca (urban Carioca samba), samba de roda (sometimes also called rural samba), recognized as part of the Intangible Cultural Heritage of Humanity by UNESCO, amongst many other forms of Samba, mostly originated in the Rio de Janeiro and Bahia States. Samba is a broad term for many of the rhythms that compose the better known Brazilian music genres that originated in the Afro-Brazilian communities of Bahia in the late 19th century and early 20th century, having continued its development on the communities of Rio de Janeiro in the early 20th century. Having its roots in the Afro-Brazilian Candomblé, as well as other Afro-Brazilian and Indigenous folk traditions, such as the traditional Samba de Caboclo, it is considered one of the most important cultural phenomena in Brazil and one of the country\\'s symbols. Present in the Portuguese language at least since the 19th century, the word \\\"samba\\\" was originally used to designate a \\\"popular dance\\\". Over time, its meaning has been extended to a \\\"batuque-like circle dance\\\", a dance style, and also to a \\\"music genre\\\". This process of establishing itself as a musical genre began in the 1910s and it had its inaugural landmark in the song \\\"Pelo Telefone\\\", launched in 1917. Despite being identified by its creators, the public, and the Brazilian music industry as \\\"samba\\\", this pioneering style was much more connected from the rhythmic and instrumental point of view to maxixe than to samba itself.\n",
    "\n",
    "Samba was modernly structured as a musical genre only in the late 1920s from the neighborhood of Estácio and soon extended to Oswaldo Cruz and other parts of Rio through its commuter rail. Today synonymous with the rhythm of samba, this new samba brought innovations in rhythm, melody and also in thematic aspects. Its rhythmic change based on a new percussive instrumental pattern resulted in a more \\\"batucado\\\" and syncopated style – as opposed to the inaugural \\\"samba-maxixe\\\" – notably characterized by a faster tempo, longer notes and a characterized cadence far beyond the simple ones palms used so far. Also the \\\"Estácio paradigm\\\" innovated in the formatting of samba as a song, with its musical organization in first and second parts in both melody and lyrics. In this way, the sambistas of Estácio created, structured and redefined the urban Carioca samba as a genre in a modern and finished way. In this process of establishment as an urban and modern musical expression, the Carioca samba had the decisive role of samba schools, responsible for defining and legitimizing definitively the aesthetic bases of rhythm, and radio broadcasting, which greatly contributed to the diffusion and popularization of the genre and its song singers. Thus, samba has achieved major projection throughout Brazil and has become one of the main symbols of Brazilian national identity. Once criminalized and rejected for its Afro-Brazilian origins, and definitely working-class music in its mythic origins, the genre has also received support from members of the upper classes and the country\\'s cultural elite.\"\"\",\n",
    "    **parameters\n",
    ")\n",
    "print(f\"Response from Model: {response.text}\")"
   ]
  },
  {
   "cell_type": "markdown",
   "id": "359ebb6e-4e3f-4d0b-8e5f-b2caab566236",
   "metadata": {},
   "source": [
    "# Example 3: Question Answering"
   ]
  },
  {
   "cell_type": "code",
   "execution_count": 26,
   "id": "2d3d6919-62bc-4680-a4e6-af380c103ea4",
   "metadata": {
    "tags": []
   },
   "outputs": [
    {
     "name": "stdout",
     "output_type": "stream",
     "text": [
      "Response from Model: Reduced moist tropical vegetation cover in the basin.\n"
     ]
    }
   ],
   "source": [
    "import vertexai\n",
    "from vertexai.language_models import TextGenerationModel\n",
    "\n",
    "vertexai.init(project=\"[project-ID]\", location=\"us-central1\")\n",
    "parameters = {\n",
    "   # \"candidate_count\": 1,\n",
    "    \"max_output_tokens\": 256,\n",
    "    \"temperature\": 0.2,\n",
    "    \"top_p\": 0.8,\n",
    "    \"top_k\": 1\n",
    "}\n",
    "model = TextGenerationModel.from_pretrained(\"text-bison@001\")\n",
    "response = model.predict(\n",
    "    \"\"\"Background: There is evidence that there have been significant changes in Amazon rainforest vegetation over the last 21,000 years through the Last Glacial Maximum (LGM) and subsequent deglaciation. Analyses of sediment deposits from Amazon basin paleo lakes and from the Amazon Fan indicate that rainfall in the basin during the LGM was lower than for the present, and this was almost certainly associated with reduced moist tropical vegetation cover in the basin. There is debate, however, over how extensive this reduction was. Some scientists argue that the rainforest was reduced to small, isolated refugia separated by open forest and grassland; other scientists argue that the rainforest remained largely intact but extended less far to the north, south, and east than is seen today. This debate has proved difficult to resolve because the practical limitations of working in the rainforest mean that data sampling is biased away from the center of the Amazon basin, and both explanations are reasonably well supported by the available data.\n",
    "\n",
    "Q: What has the lower rainfall in the Amazon during the LGM been attributed to?\n",
    "A:\n",
    "\"\"\",\n",
    "    **parameters\n",
    ")\n",
    "print(f\"Response from Model: {response.text}\")"
   ]
  },
  {
   "cell_type": "markdown",
   "id": "ab6392f9-d418-4f78-8ed2-7f95185a13f6",
   "metadata": {},
   "source": [
    "# Example 4: Grammer Correction"
   ]
  },
  {
   "cell_type": "code",
   "execution_count": 29,
   "id": "f6bfbf4e-7df6-4691-9b37-50f943f86d79",
   "metadata": {
    "tags": []
   },
   "outputs": [
    {
     "name": "stdout",
     "output_type": "stream",
     "text": [
      "Response from Model: The trees are happy today.\n"
     ]
    }
   ],
   "source": [
    "import vertexai\n",
    "from vertexai.language_models import TextGenerationModel\n",
    "\n",
    "vertexai.init(project=\"[project-ID]\", location=\"us-central1\")\n",
    "parameters = {\n",
    "   # \"candidate_count\": 1,\n",
    "    \"max_output_tokens\": 256,\n",
    "    \"temperature\": 0.2,\n",
    "    \"top_p\": 0.95,\n",
    "    \"top_k\": 40\n",
    "}\n",
    "model = TextGenerationModel.from_pretrained(\"text-bison@001\")\n",
    "response = model.predict(\n",
    "    \"\"\"The trees is happy today.\n",
    "\n",
    "Correct the grammar of this sentence:\n",
    "  \"\"\",\n",
    "    **parameters\n",
    ")\n",
    "print(f\"Response from Model: {response.text}\")"
   ]
  },
  {
   "cell_type": "markdown",
   "id": "6e457447-ecd4-44fa-a2c3-5a48011b62f0",
   "metadata": {},
   "source": [
    "# Example 5: Book title generation"
   ]
  },
  {
   "cell_type": "code",
   "execution_count": 38,
   "id": "93ce9321-fa88-4670-9efa-f1b94c55c8ca",
   "metadata": {
    "tags": []
   },
   "outputs": [
    {
     "name": "stdout",
     "output_type": "stream",
     "text": [
      "Response from Model: Google AI Research: Learning from Others to Improve Robot Behavior\n"
     ]
    }
   ],
   "source": [
    "import vertexai\n",
    "from vertexai.language_models import TextGenerationModel\n",
    "\n",
    "vertexai.init(project=\"[project-ID]\", location=\"us-central1\")\n",
    "parameters = {\n",
    "   # \"candidate_count\": 1,\n",
    "    \"max_output_tokens\": 256,\n",
    "    \"temperature\": 0.2,\n",
    "    \"top_p\": 0.95,\n",
    "    \"top_k\": 40\n",
    "}\n",
    "model = TextGenerationModel.from_pretrained(\"text-bison@001\")\n",
    "response = model.predict(\n",
    "    \"\"\"Article: Yellowstone National Park is an American national park located in the western United States, largely in the northwest corner of Wyoming and extending into Montana and Idaho. It was established by the 42nd U.S. Congress with the Yellowstone National Park Protection Act and signed into law by President Ulysses S. Grant on March 1, 1872. Yellowstone was the first national park in the U.S. and is also widely held to be the first national park in the world. The park is known for its wildlife and its many geothermal features, especially the Old Faithful geyser, one of its most popular. While it represents many types of biomes, the subalpine forest is the most abundant. It is part of the South Central Rockies forests ecoregion.\n",
    "The title of above article can be: Yellowstone National Park: A Natural Wonder\n",
    "\n",
    "Article: As many businesses figure out new ways to go digital, one thing is clear: talent continues to be one of the key ways to enable an inclusive digital economy. Employers in Asia Pacific list technology as the leading in-demand skill, with digital marketing and e-commerce following close behind. Simultaneously, many people are looking to learn new skills that will help them meet the requirements of the evolving job market. So we must create new ways to help businesses and job seekers alike.\n",
    "The title of above article can be: How to Prepare for the Digital Economy\n",
    "\n",
    "Article: STEM Minds empowers K-12 students worldwide to reach their full potential as self-directed, life-long learners. As we grow our team, we\\'ll continue to work closely with Google for Startups experts and Google for Startups Accelerator Canada advisors to further expand our AI/ML tech stack, develop additional educational solutions, and launch STEM Minds in new markets.\n",
    "The title of above article can be: STEM Minds: Empowering K-12 Students Worldwide\n",
    "\n",
    "Article: As human beings, we learn from our personal experiences and from each other. We often share what we\\'ve learned and rework systems based on failures we\\'ve encountered. While our robots don\\'t communicate with each other, this research shows that we can successfully combine datasets from different types of robots and transfer behaviors across them. In fact, our research shows that by combining data from different robots we\\'re able to nearly double the model\\'s ability to generalize to a new scene. That means that as we continue to experiment with different robots and new tasks, we may be able to augment the training data to improve robot behavior, making it a flexible and scalable approach to robot learning.\n",
    "The title of above article can be:\n",
    "\"\"\",\n",
    "    **parameters\n",
    ")\n",
    "print(f\"Response from Model: {response.text}\")"
   ]
  },
  {
   "cell_type": "markdown",
   "id": "7494cfe2-3549-491e-b5f4-59dc91fe23a6",
   "metadata": {},
   "source": [
    "# Example 6: Recipe Generator ChatBot"
   ]
  },
  {
   "cell_type": "code",
   "execution_count": 40,
   "id": "8aca6b68-5441-4b58-bea3-638695cddd89",
   "metadata": {
    "tags": []
   },
   "outputs": [
    {
     "name": "stdout",
     "output_type": "stream",
     "text": [
      "Response from Model: Sure, here is a gluten-free banana bread recipe:\n",
      "\n",
      "Ingredients:\n",
      "\n",
      "* 2 cups gluten-free flour\n",
      "* 1 teaspoon baking soda\n",
      "* 1 teaspoon xanthan gum\n",
      "* 1/2 teaspoon salt\n",
      "* 1 cup sugar\n",
      "* 1/2 cup brown sugar\n",
      "* 1/2 cup butter, softened\n",
      "* 2 eggs\n",
      "* 1 teaspoon vanilla extract\n",
      "* 2 cups mashed bananas\n",
      "\n",
      "Instructions:\n",
      "\n",
      "1. Preheat oven to 350 degrees F (175 degrees C). Grease and flour an 8x4 inch loaf pan.\n",
      "2. In a large bowl, whisk together the flour, baking soda, xanthan gum, and salt.\n",
      "3. In a separate bowl, cream together the sugar, brown sugar, butter, and eggs until light and fluffy.\n",
      "4. Stir in the vanilla extract and mashed bananas.\n",
      "5. Add the dry ingredients to the wet ingredients and mix until just combined. Do not overmix.\n",
      "6. Pour the batter into the prepared loaf pan and bake for 50-60 minutes, or until a toothpick inserted into the center comes out clean.\n",
      "7. Let cool completely\n",
      "Response from Model: Sure, I can help you with that. Here is a sample gluten-free diet plan for weight loss:\n",
      "\n",
      "* Breakfast:\n",
      "    * 1 cup gluten-free oatmeal with 1/2 cup berries and 1 tablespoon almond butter\n",
      "    * 1 hard-boiled egg\n",
      "    * 1 cup of coffee or tea with unsweetened almond milk\n",
      "* Lunch:\n",
      "    * Salad with grilled chicken or tofu, vegetables, and gluten-free dressing\n",
      "    * 1 piece of fruit\n",
      "* Dinner:\n",
      "    * Salmon with roasted vegetables\n",
      "    * 1 cup of brown rice\n",
      "    * 1 glass of milk or water\n",
      "* Snacks:\n",
      "    * 1 handful of nuts\n",
      "    * 1 piece of fruit\n",
      "    * 1 cup of yogurt\n",
      "\n",
      "This is just a sample plan, and you may need to adjust it to fit your individual needs. Be sure to talk to your doctor before starting any new diet plan.\n"
     ]
    }
   ],
   "source": [
    "import vertexai\n",
    "from vertexai.language_models import ChatModel, InputOutputTextPair\n",
    "\n",
    "vertexai.init(project=\"[project-ID]\", location=\"us-central1\")\n",
    "chat_model = ChatModel.from_pretrained(\"chat-bison@001\")\n",
    "parameters = {\n",
    "   # \"candidate_count\": 1,\n",
    "    \"max_output_tokens\": 256,\n",
    "    \"temperature\": 0.2,\n",
    "    \"top_p\": 0.8,\n",
    "    \"top_k\": 40\n",
    "}\n",
    "chat = chat_model.start_chat(\n",
    "    context=\"\"\"You are a chef that specializes in designing recipes and diet plans which are gluten free.\"\"\",\n",
    ")\n",
    "response = chat.send_message(\"\"\"I want to cook banana bread today. Can you suggest a good recipe?\"\"\", **parameters)\n",
    "print(f\"Response from Model: {response.text}\")\n",
    "response = chat.send_message(\"\"\"What\\'s my diet plan? Help me create one. I want to lose some weight.\"\"\", **parameters)\n",
    "print(f\"Response from Model: {response.text}\")"
   ]
  }
 ],
 "metadata": {
  "kernelspec": {
   "display_name": "py3vertexai",
   "language": "python",
   "name": "vertexai"
  },
  "language_info": {
   "codemirror_mode": {
    "name": "ipython",
    "version": 3
   },
   "file_extension": ".py",
   "mimetype": "text/x-python",
   "name": "python",
   "nbconvert_exporter": "python",
   "pygments_lexer": "ipython3",
   "version": "3.10.12"
  }
 },
 "nbformat": 4,
 "nbformat_minor": 5
}
